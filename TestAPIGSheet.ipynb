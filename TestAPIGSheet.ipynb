{
 "cells": [
  {
   "cell_type": "markdown",
   "metadata": {},
   "source": [
    "# Premier test d'application de GSpread"
   ]
  },
  {
   "cell_type": "code",
   "execution_count": 1,
   "metadata": {},
   "outputs": [],
   "source": [
    "import pandas as pd"
   ]
  },
  {
   "cell_type": "code",
   "execution_count": 2,
   "metadata": {},
   "outputs": [],
   "source": [
    "test = pd.read_excel('https://docs.google.com/spreadsheets/d/e/2PACX-1vQ2OZ6qprKlwb8Dq5etxii3n61G-HkxAr-cuuRlqNtyzyn4ThliS2yqTf8cSie3D18Et-lIZeqJ3id6/pub?output=xlsx')"
   ]
  },
  {
   "cell_type": "code",
   "execution_count": 31,
   "metadata": {},
   "outputs": [
    {
     "name": "stdout",
     "output_type": "stream",
     "text": [
      "Astruz\n",
      "Astruz\n",
      "Dupont\n",
      "Leponge\n",
      "delavergne\n"
     ]
    }
   ],
   "source": [
    "for i, element in enumerate(test['Nom']):\n",
    "    col = col1 if i % 4 == 0 else col2 if i % 4 == 1 else col3 if i % 4 == 2 else col4"
   ]
  },
  {
   "cell_type": "code",
   "execution_count": 33,
   "metadata": {},
   "outputs": [],
   "source": [
    "list(set(test['Statut']))\n",
    "Stat = 'Salarié'\n",
    "Loc = 'Annecy'"
   ]
  },
  {
   "cell_type": "code",
   "execution_count": 3,
   "metadata": {},
   "outputs": [
    {
     "data": {
      "text/html": [
       "<div>\n",
       "<style scoped>\n",
       "    .dataframe tbody tr th:only-of-type {\n",
       "        vertical-align: middle;\n",
       "    }\n",
       "\n",
       "    .dataframe tbody tr th {\n",
       "        vertical-align: top;\n",
       "    }\n",
       "\n",
       "    .dataframe thead th {\n",
       "        text-align: right;\n",
       "    }\n",
       "</style>\n",
       "<table border=\"1\" class=\"dataframe\">\n",
       "  <thead>\n",
       "    <tr style=\"text-align: right;\">\n",
       "      <th></th>\n",
       "      <th>Image</th>\n",
       "      <th>Nom</th>\n",
       "      <th>Prenom</th>\n",
       "      <th>Statut</th>\n",
       "      <th>Poste</th>\n",
       "      <th>Lieu</th>\n",
       "      <th>Mail</th>\n",
       "    </tr>\n",
       "  </thead>\n",
       "  <tbody>\n",
       "    <tr>\n",
       "      <th>0</th>\n",
       "      <td>https://asadassistance.com/wp-content/uploads/...</td>\n",
       "      <td>Astruz</td>\n",
       "      <td>Jean-Marc</td>\n",
       "      <td>Bénévole</td>\n",
       "      <td>Commission Web</td>\n",
       "      <td>Annecy</td>\n",
       "      <td>jmastruz@gmail.com</td>\n",
       "    </tr>\n",
       "    <tr>\n",
       "      <th>1</th>\n",
       "      <td>https://asadassistance.com/wp-content/uploads/...</td>\n",
       "      <td>Astruz</td>\n",
       "      <td>Isabelle</td>\n",
       "      <td>Bénévole</td>\n",
       "      <td>Bureau</td>\n",
       "      <td>Bonneville</td>\n",
       "      <td>jmastruz@gmail.com</td>\n",
       "    </tr>\n",
       "    <tr>\n",
       "      <th>2</th>\n",
       "      <td>https://asadassistance.com/wp-content/uploads/...</td>\n",
       "      <td>Dupont</td>\n",
       "      <td>René</td>\n",
       "      <td>Salarié</td>\n",
       "      <td>RH</td>\n",
       "      <td>Bonneville</td>\n",
       "      <td>jmastruz@gmail.com</td>\n",
       "    </tr>\n",
       "    <tr>\n",
       "      <th>3</th>\n",
       "      <td>https://asadassistance.com/wp-content/uploads/...</td>\n",
       "      <td>Leponge</td>\n",
       "      <td>Bob</td>\n",
       "      <td>Salarié</td>\n",
       "      <td>Direction</td>\n",
       "      <td>Annecy</td>\n",
       "      <td>jmastruz@gmail.com</td>\n",
       "    </tr>\n",
       "    <tr>\n",
       "      <th>4</th>\n",
       "      <td>https://asadassistance.com/wp-content/uploads/...</td>\n",
       "      <td>delavergne</td>\n",
       "      <td>Raymon</td>\n",
       "      <td>Bénévole</td>\n",
       "      <td>NaN</td>\n",
       "      <td>Annecy</td>\n",
       "      <td>jmastruz@gmail.com</td>\n",
       "    </tr>\n",
       "  </tbody>\n",
       "</table>\n",
       "</div>"
      ],
      "text/plain": [
       "                                               Image         Nom     Prenom  \\\n",
       "0  https://asadassistance.com/wp-content/uploads/...      Astruz  Jean-Marc   \n",
       "1  https://asadassistance.com/wp-content/uploads/...      Astruz   Isabelle   \n",
       "2  https://asadassistance.com/wp-content/uploads/...      Dupont       René   \n",
       "3  https://asadassistance.com/wp-content/uploads/...     Leponge        Bob   \n",
       "4  https://asadassistance.com/wp-content/uploads/...  delavergne     Raymon   \n",
       "\n",
       "     Statut           Poste        Lieu                Mail  \n",
       "0  Bénévole  Commission Web      Annecy  jmastruz@gmail.com  \n",
       "1  Bénévole          Bureau  Bonneville  jmastruz@gmail.com  \n",
       "2   Salarié              RH  Bonneville  jmastruz@gmail.com  \n",
       "3   Salarié       Direction      Annecy  jmastruz@gmail.com  \n",
       "4  Bénévole             NaN      Annecy  jmastruz@gmail.com  "
      ]
     },
     "execution_count": 3,
     "metadata": {},
     "output_type": "execute_result"
    }
   ],
   "source": [
    "test"
   ]
  },
  {
   "cell_type": "code",
   "execution_count": 36,
   "metadata": {},
   "outputs": [
    {
     "data": {
      "text/html": [
       "<div>\n",
       "<style scoped>\n",
       "    .dataframe tbody tr th:only-of-type {\n",
       "        vertical-align: middle;\n",
       "    }\n",
       "\n",
       "    .dataframe tbody tr th {\n",
       "        vertical-align: top;\n",
       "    }\n",
       "\n",
       "    .dataframe thead th {\n",
       "        text-align: right;\n",
       "    }\n",
       "</style>\n",
       "<table border=\"1\" class=\"dataframe\">\n",
       "  <thead>\n",
       "    <tr style=\"text-align: right;\">\n",
       "      <th></th>\n",
       "      <th>Image</th>\n",
       "      <th>Nom</th>\n",
       "      <th>Prenom</th>\n",
       "      <th>Statut</th>\n",
       "      <th>Poste</th>\n",
       "      <th>Lieu</th>\n",
       "    </tr>\n",
       "  </thead>\n",
       "  <tbody>\n",
       "    <tr>\n",
       "      <th>0</th>\n",
       "      <td>https://asadassistance.com/wp-content/uploads/...</td>\n",
       "      <td>Astruz</td>\n",
       "      <td>Jean-Marc</td>\n",
       "      <td>Bénévole</td>\n",
       "      <td>Commission Web</td>\n",
       "      <td>Annecy</td>\n",
       "    </tr>\n",
       "    <tr>\n",
       "      <th>1</th>\n",
       "      <td>https://asadassistance.com/wp-content/uploads/...</td>\n",
       "      <td>Astruz</td>\n",
       "      <td>Isabelle</td>\n",
       "      <td>Bénévole</td>\n",
       "      <td>Bureau</td>\n",
       "      <td>Annecy</td>\n",
       "    </tr>\n",
       "    <tr>\n",
       "      <th>2</th>\n",
       "      <td>https://asadassistance.com/wp-content/uploads/...</td>\n",
       "      <td>Dupont</td>\n",
       "      <td>René</td>\n",
       "      <td>Salarié</td>\n",
       "      <td>RH</td>\n",
       "      <td>Bonneville</td>\n",
       "    </tr>\n",
       "    <tr>\n",
       "      <th>3</th>\n",
       "      <td>https://asadassistance.com/wp-content/uploads/...</td>\n",
       "      <td>Leponge</td>\n",
       "      <td>Bob</td>\n",
       "      <td>Salarié</td>\n",
       "      <td>Direction</td>\n",
       "      <td>Annecy</td>\n",
       "    </tr>\n",
       "    <tr>\n",
       "      <th>4</th>\n",
       "      <td>https://asadassistance.com/wp-content/uploads/...</td>\n",
       "      <td>delavergne</td>\n",
       "      <td>Raymon</td>\n",
       "      <td>Bénévole</td>\n",
       "      <td>NaN</td>\n",
       "      <td>Annecy</td>\n",
       "    </tr>\n",
       "  </tbody>\n",
       "</table>\n",
       "</div>"
      ],
      "text/plain": [
       "                                               Image         Nom     Prenom  \\\n",
       "0  https://asadassistance.com/wp-content/uploads/...      Astruz  Jean-Marc   \n",
       "1  https://asadassistance.com/wp-content/uploads/...      Astruz   Isabelle   \n",
       "2  https://asadassistance.com/wp-content/uploads/...      Dupont       René   \n",
       "3  https://asadassistance.com/wp-content/uploads/...     Leponge        Bob   \n",
       "4  https://asadassistance.com/wp-content/uploads/...  delavergne     Raymon   \n",
       "\n",
       "     Statut           Poste        Lieu  \n",
       "0  Bénévole  Commission Web      Annecy  \n",
       "1  Bénévole          Bureau      Annecy  \n",
       "2   Salarié              RH  Bonneville  \n",
       "3   Salarié       Direction      Annecy  \n",
       "4  Bénévole             NaN      Annecy  "
      ]
     },
     "execution_count": 36,
     "metadata": {},
     "output_type": "execute_result"
    }
   ],
   "source": [
    "test"
   ]
  },
  {
   "cell_type": "code",
   "execution_count": null,
   "metadata": {},
   "outputs": [],
   "source": []
  }
 ],
 "metadata": {
  "kernelspec": {
   "display_name": "base",
   "language": "python",
   "name": "python3"
  },
  "language_info": {
   "codemirror_mode": {
    "name": "ipython",
    "version": 3
   },
   "file_extension": ".py",
   "mimetype": "text/x-python",
   "name": "python",
   "nbconvert_exporter": "python",
   "pygments_lexer": "ipython3",
   "version": "3.11.5"
  }
 },
 "nbformat": 4,
 "nbformat_minor": 2
}
